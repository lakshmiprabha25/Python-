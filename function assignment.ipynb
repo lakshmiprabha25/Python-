{
 "cells": [
  {
   "cell_type": "markdown",
   "id": "5fc341af-842b-4c80-9253-e111d8cbf32d",
   "metadata": {},
   "source": [
    "\n"
   ]
  },
  {
   "cell_type": "code",
   "execution_count": 60,
   "id": "17a30fdc-417c-483d-8703-01b96901ef0d",
   "metadata": {},
   "outputs": [],
   "source": [
    "def percentage():\n",
    " m1=int(input(\"Subject1= \"))\n",
    " m2=int(input(\"Subject2= \"))\n",
    " m3=int(input(\"Subject3= \"))\n",
    " m4=int(input(\"Subject4= \"))\n",
    " m5=int(input(\"Subject5= \"))\n",
    " Total = m1+m2+m3+m4+m5\n",
    " print(\"Total : \",m1+m2+m3+m4+m5)\n",
    " Percent = (Total / 500) * 100\n",
    " print(\"Percentage : \",Percent)\n",
    "    \n",
    " percentage()\n",
    "    "
   ]
  },
  {
   "cell_type": "code",
   "execution_count": 64,
   "id": "58ab39d9-2ed0-41c6-87cd-b7b9557f9574",
   "metadata": {},
   "outputs": [
    {
     "name": "stdin",
     "output_type": "stream",
     "text": [
      "enter the value 98\n",
      "enter the value 87\n",
      "enter the value 95\n",
      "enter the value 95\n",
      "enter the value 93\n"
     ]
    },
    {
     "name": "stdout",
     "output_type": "stream",
     "text": [
      "468\n",
      "percentage 93.6\n"
     ]
    }
   ],
   "source": [
    "def percentage():\n",
    "    sub1=int(input(\"enter the value\"))\n",
    "    sub2=int(input(\"enter the value\"))\n",
    "    sub3=int(input(\"enter the value\"))\n",
    "    sub4=int(input(\"enter the value\"))\n",
    "    sub5=int(input(\"enter the value\"))\n",
    "    total=sub1+sub2+sub3+sub4+sub5\n",
    "    percentage=(total/5)\n",
    "    print(total)\n",
    "    print(\"percentage\",percentage)\n",
    "\n",
    "percentage()"
   ]
  },
  {
   "cell_type": "code",
   "execution_count": 70,
   "id": "ad2e1612-5a18-4f32-bf92-f087fb92ecd9",
   "metadata": {},
   "outputs": [
    {
     "name": "stdin",
     "output_type": "stream",
     "text": [
      "Height 32\n",
      "Breadth 34\n"
     ]
    },
    {
     "name": "stdout",
     "output_type": "stream",
     "text": [
      "Area of Triangle= 544.0\n"
     ]
    },
    {
     "name": "stdin",
     "output_type": "stream",
     "text": [
      "Height1 2\n",
      "Height2 4\n",
      "Breadth 4\n"
     ]
    },
    {
     "name": "stdout",
     "output_type": "stream",
     "text": [
      "Perimeter of Triangle 10\n"
     ]
    }
   ],
   "source": [
    "def triangle():\n",
    "    Height=int(input(\"Height\"))\n",
    "    Breadth=int(input(\"Breadth\"))\n",
    "    Area_of_Triangle= (Height*Breadth)/2\n",
    "    print(\"Area of Triangle=\",Area_of_Triangle)\n",
    "    Height1=int(input(\"Height1\"))\n",
    "    Height2=int(input(\"Height2\"))\n",
    "    Breadth=int(input(\"Breadth\"))\n",
    "    Perimeter_of_Triangle=Height1+Height2+Breadth\n",
    "    print(\"Perimeter of Triangle\",Perimeter_of_Triangle)\n",
    "\n",
    "triangle()"
   ]
  },
  {
   "cell_type": "code",
   "execution_count": null,
   "id": "1ccce3e6-bcc2-4996-8e87-672dd2ccdae8",
   "metadata": {},
   "outputs": [],
   "source": []
  }
 ],
 "metadata": {
  "kernelspec": {
   "display_name": "Python 3 (ipykernel)",
   "language": "python",
   "name": "python3"
  },
  "language_info": {
   "codemirror_mode": {
    "name": "ipython",
    "version": 3
   },
   "file_extension": ".py",
   "mimetype": "text/x-python",
   "name": "python",
   "nbconvert_exporter": "python",
   "pygments_lexer": "ipython3",
   "version": "3.12.7"
  }
 },
 "nbformat": 4,
 "nbformat_minor": 5
}
