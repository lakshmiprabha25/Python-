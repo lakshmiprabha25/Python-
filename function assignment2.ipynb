{
 "cells": [
  {
   "cell_type": "code",
   "execution_count": 3,
   "id": "17003bdf-92dd-40f3-a31f-8a37700cec4d",
   "metadata": {},
   "outputs": [
    {
     "name": "stdin",
     "output_type": "stream",
     "text": [
      "enter the value 97\n",
      "enter the value 93\n",
      "enter the value 89\n",
      "enter the value 93\n",
      "enter the value 94\n"
     ]
    },
    {
     "name": "stdout",
     "output_type": "stream",
     "text": [
      "466\n",
      "percentage 93.2\n"
     ]
    }
   ],
   "source": [
    "def percentage():\n",
    "    sub1=int(input(\"enter the value\"))\n",
    "    sub2=int(input(\"enter the value\"))\n",
    "    sub3=int(input(\"enter the value\"))\n",
    "    sub4=int(input(\"enter the value\"))\n",
    "    sub5=int(input(\"enter the value\"))\n",
    "    total=sub1+sub2+sub3+sub4+sub5\n",
    "    percentage=(total/5)\n",
    "    print(total)\n",
    "    print(\"percentage\",percentage)\n",
    "\n",
    "\n",
    "percentage()"
   ]
  },
  {
   "cell_type": "code",
   "execution_count": 1,
   "id": "40cf869e-99d1-4072-90ec-defaf544bb80",
   "metadata": {},
   "outputs": [
    {
     "name": "stdout",
     "output_type": "stream",
     "text": [
      "subfields assignments are\n"
     ]
    },
    {
     "data": {
      "text/plain": [
       "['MachineLearning',\n",
       " 'NeuralNetworks',\n",
       " 'Vision',\n",
       " 'Robotics',\n",
       " 'SpeechProcessing',\n",
       " 'NaturalLanguage']"
      ]
     },
     "execution_count": 1,
     "metadata": {},
     "output_type": "execute_result"
    }
   ],
   "source": [
    "def subfields():\n",
    "    subfields1=['MachineLearning', 'NeuralNetworks', 'Vision', 'Robotics', 'SpeechProcessing', 'NaturalLanguage']\n",
    "    print(\"subfields assignments are\")\n",
    "    return subfields1\n",
    "\n",
    "subfields()"
   ]
  },
  {
   "cell_type": "code",
   "execution_count": 4,
   "id": "b72c1250-4c4c-4225-9180-506a8c79c445",
   "metadata": {
    "scrolled": true
   },
   "outputs": [
    {
     "name": "stdin",
     "output_type": "stream",
     "text": [
      "enter the number 8\n"
     ]
    },
    {
     "name": "stdout",
     "output_type": "stream",
     "text": [
      "8 is a even number\n"
     ]
    }
   ],
   "source": [
    " def subfields1():\n",
    "     i=int(input(\"enter the number\"))\n",
    "     if (i%2==0):\n",
    "      print(i,\"is a even number\")\n",
    "     else:\n",
    "       print(i,\"is a odd number\")\n",
    "        \n",
    "         \n",
    "subfields1()\n"
   ]
  },
  {
   "cell_type": "code",
   "execution_count": 2,
   "id": "81361f2c-4113-46bc-bcc5-216240047d02",
   "metadata": {},
   "outputs": [
    {
     "name": "stdin",
     "output_type": "stream",
     "text": [
      "enter the number 890\n"
     ]
    },
    {
     "name": "stdout",
     "output_type": "stream",
     "text": [
      "890 is a even number\n"
     ]
    }
   ],
   "source": [
    "def subfields1():\n",
    "    i=int(input(\"enter the number\"))\n",
    "    if (i%2==0):\n",
    "        print(i,\"is a even number\")\n",
    "    else:\n",
    "        print(i,\"is a odd number\")\n",
    "\n",
    "subfields1()\n"
   ]
  },
  {
   "cell_type": "code",
   "execution_count": 44,
   "id": "798ec108-8828-416a-a38a-b12d50d37945",
   "metadata": {},
   "outputs": [
    {
     "name": "stdin",
     "output_type": "stream",
     "text": [
      "enter your gender: male\n"
     ]
    },
    {
     "name": "stdout",
     "output_type": "stream",
     "text": [
      "your gender: male\n"
     ]
    },
    {
     "name": "stdin",
     "output_type": "stream",
     "text": [
      "entrer your age 16\n"
     ]
    },
    {
     "name": "stdout",
     "output_type": "stream",
     "text": [
      "you are: not eligible\n"
     ]
    }
   ],
   "source": [
    "def subfields():\n",
    "    gender=input(\"enter your gender:\") \n",
    "    print(\"your gender:\",\"male\")\n",
    "    age=int(input(\"entrer your age\"))\n",
    "    if(age>=21):\n",
    "        print(\"YOU ARE:\",\"eligible\")\n",
    "    else:\n",
    "        print(\"you are:\",\"not eligible\")\n",
    "\n",
    "subfields()\n",
    "        "
   ]
  },
  {
   "cell_type": "code",
   "execution_count": null,
   "id": "fbb29122-718f-4ae3-9990-1e9e8473267a",
   "metadata": {},
   "outputs": [],
   "source": []
  }
 ],
 "metadata": {
  "kernelspec": {
   "display_name": "Python 3 (ipykernel)",
   "language": "python",
   "name": "python3"
  },
  "language_info": {
   "codemirror_mode": {
    "name": "ipython",
    "version": 3
   },
   "file_extension": ".py",
   "mimetype": "text/x-python",
   "name": "python",
   "nbconvert_exporter": "python",
   "pygments_lexer": "ipython3",
   "version": "3.12.7"
  }
 },
 "nbformat": 4,
 "nbformat_minor": 5
}
