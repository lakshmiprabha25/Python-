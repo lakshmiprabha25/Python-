{
 "cells": [
  {
   "cell_type": "code",
   "execution_count": 1,
   "id": "96ecc820-356c-4671-b339-df8ff28ae75f",
   "metadata": {},
   "outputs": [
    {
     "name": "stdout",
     "output_type": "stream",
     "text": [
      "HOPE AI\n"
     ]
    }
   ],
   "source": [
    " print(\"HOPE AI\")"
   ]
  },
  {
   "cell_type": "code",
   "execution_count": 2,
   "id": "2ef97801-7d9e-40c7-9a54-a842a945aa71",
   "metadata": {},
   "outputs": [
    {
     "name": "stdout",
     "output_type": "stream",
     "text": [
      "Enter your institute name? : HOPE AI \n"
     ]
    }
   ],
   "source": [
    "print(\"Enter your institute name? : HOPE AI \")"
   ]
  },
  {
   "cell_type": "code",
   "execution_count": 16,
   "id": "39f03803-3ab0-4745-88e4-ebb0321f5986",
   "metadata": {},
   "outputs": [
    {
     "name": "stdout",
     "output_type": "stream",
     "text": [
      "Enter your name : Raj\n",
      "Enter your age: 15 \n",
      "Enter your school name=Guru school\n",
      "Enter your degree=BE CSE\n"
     ]
    }
   ],
   "source": [
    "\n",
    "print(\"Enter your name : Raj\")\n",
    "print(\"Enter your age: 15 \")\n",
    "print(\"Enter your school name=Guru school\")\n",
    "print(\"Enter your degree=BE CSE\")"
   ]
  },
  {
   "cell_type": "code",
   "execution_count": 22,
   "id": "b9f9f1f4-2d44-4de5-bf91-fbc3397ebc1a",
   "metadata": {},
   "outputs": [
    {
     "name": "stdout",
     "output_type": "stream",
     "text": [
      "a=43\n",
      "b=34\n",
      "add = 77\n"
     ]
    }
   ],
   "source": [
    "a= 43 \n",
    "b= 34\n",
    "add=a+b\n",
    "print(\"a=43\")\n",
    "print(\"b=34\")\n",
    "print(\"add =\",str(add))"
   ]
  },
  {
   "cell_type": "code",
   "execution_count": 31,
   "id": "3ccf33ec-841e-4457-8602-7f87b57fe433",
   "metadata": {},
   "outputs": [
    {
     "name": "stdout",
     "output_type": "stream",
     "text": [
      "a=43\n",
      "b=34\n",
      "sub = 9\n"
     ]
    }
   ],
   "source": [
    "a= 43 \n",
    "b= 34\n",
    "print(\"a=43\")\n",
    "print(\"b=34\")\n",
    "print(\"sub =\",str(sub))"
   ]
  },
  {
   "cell_type": "code",
   "execution_count": 36,
   "id": "a488493f-e9a6-4e3a-9549-8ae71cd29b04",
   "metadata": {},
   "outputs": [
    {
     "name": "stdout",
     "output_type": "stream",
     "text": [
      "a=63\n",
      "b=97\n",
      "mul= 6111\n"
     ]
    }
   ],
   "source": [
    "a= 63 \n",
    "b= 97\n",
    "print(\"a=63\")\n",
    "print(\"b=97\")\n",
    "mul=a*b\n",
    "print(\"mul=\",mul)"
   ]
  },
  {
   "cell_type": "code",
   "execution_count": 43,
   "id": "b4206741-812b-434b-96ae-1b170ad4880e",
   "metadata": {},
   "outputs": [
    {
     "name": "stdout",
     "output_type": "stream",
     "text": [
      "a=76\n",
      "b=31\n",
      "float div= 2.4516129032258065\n"
     ]
    }
   ],
   "source": [
    "a= 76 \n",
    "b= 31 \n",
    "print(\"a=76\")\n",
    "print(\"b=31\")\n",
    "div=a/b\n",
    "print(\"float div=\",div)"
   ]
  },
  {
   "cell_type": "code",
   "execution_count": 50,
   "id": "b8d2ded8-a6aa-4cf6-adae-bc9247c85ab9",
   "metadata": {},
   "outputs": [
    {
     "name": "stdout",
     "output_type": "stream",
     "text": [
      "a=76\n",
      "b=31\n",
      "floar div= 2\n"
     ]
    }
   ],
   "source": [
    "a= 76 \n",
    "b= 31 \n",
    "print(\"a=76\")\n",
    "print(\"b=31\")\n",
    "div=a//b\n",
    "print( \"floar div=\",div)"
   ]
  },
  {
   "cell_type": "code",
   "execution_count": 55,
   "id": "a590cc60-6124-46c2-b6bf-77f994834712",
   "metadata": {},
   "outputs": [
    {
     "name": "stdout",
     "output_type": "stream",
     "text": [
      "a=76\n",
      "b=31\n",
      "modulo = 14\n"
     ]
    }
   ],
   "source": [
    "a= 76 \n",
    "b= 31 \n",
    "Modulo =a%b\n",
    "print(\"a=76\")\n",
    "print(\"b=31\")\n",
    "print(\"modulo =\",Modulo)\n"
   ]
  },
  {
   "cell_type": "code",
   "execution_count": 63,
   "id": "16543c41-f553-42cb-9153-7249e975fcd2",
   "metadata": {},
   "outputs": [
    {
     "name": "stdout",
     "output_type": "stream",
     "text": [
      "a=4\n",
      "b=4\n",
      "Power = 256\n"
     ]
    }
   ],
   "source": [
    "a=4\n",
    "b=4\n",
    "c=a**b\n",
    "print(\"a=4\")\n",
    "print(\"b=4\")\n",
    "print(\"Power =\",c)"
   ]
  },
  {
   "cell_type": "markdown",
   "id": "0de001f5-303b-4ce8-8726-cb5c6ede0310",
   "metadata": {},
   "source": []
  }
 ],
 "metadata": {
  "kernelspec": {
   "display_name": "Python 3 (ipykernel)",
   "language": "python",
   "name": "python3"
  },
  "language_info": {
   "codemirror_mode": {
    "name": "ipython",
    "version": 3
   },
   "file_extension": ".py",
   "mimetype": "text/x-python",
   "name": "python",
   "nbconvert_exporter": "python",
   "pygments_lexer": "ipython3",
   "version": "3.12.7"
  }
 },
 "nbformat": 4,
 "nbformat_minor": 5
}
