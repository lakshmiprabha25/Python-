{
 "cells": [
  {
   "cell_type": "code",
   "execution_count": 20,
   "id": "ea92b0c7-787c-4103-9d13-dcab90dce777",
   "metadata": {},
   "outputs": [
    {
     "name": "stdout",
     "output_type": "stream",
     "text": [
      "0\n",
      "1\n",
      "2\n",
      "3\n",
      "4\n",
      "5\n",
      "6\n",
      "7\n",
      "8\n",
      "9\n",
      "10\n",
      "11\n",
      "12\n",
      "13\n",
      "14\n",
      "15\n",
      "16\n",
      "17\n",
      "18\n",
      "19\n"
     ]
    }
   ],
   "source": [
    "for i in  range(0,20):\n",
    "     print(i)"
   ]
  },
  {
   "cell_type": "code",
   "execution_count": 38,
   "id": "de0bbd4e-e9f6-499a-856c-c734f15c015d",
   "metadata": {},
   "outputs": [
    {
     "name": "stdout",
     "output_type": "stream",
     "text": [
      "0 1 2 3 4 5 6 7 8 9 10 11 12 13 14 15 16 17 18 19 "
     ]
    }
   ],
   "source": [
    "for num in range(0,20,):\n",
    "    print(num , end = \" \")\n",
    "\n"
   ]
  },
  {
   "cell_type": "code",
   "execution_count": 78,
   "id": "90ed518c-694a-4dda-9e45-9fd9f99259a7",
   "metadata": {},
   "outputs": [],
   "source": [
    "list2=[10, 20, 14, 55, 43, 87, 76]\n",
    "list2length=len(list2)\n"
   ]
  },
  {
   "cell_type": "code",
   "execution_count": 81,
   "id": "647153da-176e-4449-947d-947a4a7d88e6",
   "metadata": {
    "scrolled": true
   },
   "outputs": [
    {
     "name": "stdout",
     "output_type": "stream",
     "text": [
      "[10, 20, 14, 55, 43, 87, 76]\n",
      "No of items in the list 2\n",
      "7\n"
     ]
    }
   ],
   "source": [
    "print(list2)\n",
    "print(\"No of items in the list 2\")\n",
    "print(list2length)"
   ]
  },
  {
   "cell_type": "code",
   "execution_count": 122,
   "id": "d2ee92a7-80c7-4f0d-9384-355a325b51db",
   "metadata": {},
   "outputs": [
    {
     "name": "stdout",
     "output_type": "stream",
     "text": [
      "Artificial intelligence\n"
     ]
    }
   ],
   "source": [
    "print(\"Artificial intelligence\")\n"
   ]
  },
  {
   "cell_type": "code",
   "execution_count": 167,
   "id": "f682d198-2ede-4859-a671-c52b112a7690",
   "metadata": {},
   "outputs": [
    {
     "name": "stdout",
     "output_type": "stream",
     "text": [
      "A\n",
      "r\n",
      "t\n",
      "i\n",
      "f\n",
      "i\n",
      "c\n",
      "i\n",
      "a\n",
      "l\n",
      " \n",
      "i\n",
      "n\n",
      "t\n",
      "e\n",
      "l\n",
      "l\n",
      "i\n",
      "g\n",
      "e\n",
      "n\n",
      "c\n",
      "e\n"
     ]
    }
   ],
   "source": [
    "name=\"Artificial intelligence\"\n",
    "for i in name:\n",
    "    print(i)"
   ]
  },
  {
   "cell_type": "code",
   "execution_count": 152,
   "id": "1ee6106f-5bc6-442f-9129-28861c7c6fd5",
   "metadata": {},
   "outputs": [
    {
     "name": "stdout",
     "output_type": "stream",
     "text": [
      "(1, 'Welcome', 2, 'Hope')\n"
     ]
    }
   ],
   "source": [
    " tup=(1,'Welcome',2,'Hope')\n",
    " print(tup)"
   ]
  },
  {
   "cell_type": "code",
   "execution_count": 155,
   "id": "4245b0b9-2db3-4266-a880-9e2ff0dd3bda",
   "metadata": {},
   "outputs": [
    {
     "name": "stdout",
     "output_type": "stream",
     "text": [
      "(0, 1, 2, 3, 'python', 'HOPE')\n"
     ]
    }
   ],
   "source": [
    "tup1=(0, 1, 2, 3)\n",
    "tup2=('python', 'HOPE')\n",
    "tup3=tup1+tup2\n",
    "print(tup3) "
   ]
  },
  {
   "cell_type": "code",
   "execution_count": 161,
   "id": "ea59b1e2-8775-4091-ac0e-3fc750f6f230",
   "metadata": {},
   "outputs": [
    {
     "name": "stdout",
     "output_type": "stream",
     "text": [
      "19 is odd\n",
      "25 is odd\n",
      "1 is odd\n"
     ]
    }
   ],
   "source": [
    "list=[20,10,16,19,25,1,276,188] \n",
    "for i in list:\n",
    "    if( i%2 !=0):\n",
    "        print(i,\"is odd\")"
   ]
  },
  {
   "cell_type": "code",
   "execution_count": 165,
   "id": "65d7830b-47d1-47a5-a6ed-936e063a2fd0",
   "metadata": {},
   "outputs": [
    {
     "name": "stdout",
     "output_type": "stream",
     "text": [
      "20 is even\n",
      "10 is even\n",
      "16 is even\n",
      "276 is even\n",
      "188 is even\n"
     ]
    }
   ],
   "source": [
    "list=(20,10,16,19,25,1,276,188)\n",
    "for i in list:\n",
    "    if( i%2==0):\n",
    "        print(i,\"is even\")"
   ]
  },
  {
   "cell_type": "code",
   "execution_count": null,
   "id": "9e2febf8-94b8-4b24-8f0c-19efb79b6c13",
   "metadata": {},
   "outputs": [],
   "source": []
  }
 ],
 "metadata": {
  "kernelspec": {
   "display_name": "Python 3 (ipykernel)",
   "language": "python",
   "name": "python3"
  },
  "language_info": {
   "codemirror_mode": {
    "name": "ipython",
    "version": 3
   },
   "file_extension": ".py",
   "mimetype": "text/x-python",
   "name": "python",
   "nbconvert_exporter": "python",
   "pygments_lexer": "ipython3",
   "version": "3.12.7"
  }
 },
 "nbformat": 4,
 "nbformat_minor": 5
}
