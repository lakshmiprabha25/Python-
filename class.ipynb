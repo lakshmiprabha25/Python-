{
 "cells": [
  {
   "cell_type": "code",
   "execution_count": 6,
   "id": "5b54f01f-3f2c-46d2-a169-a4873ed96692",
   "metadata": {},
   "outputs": [],
   "source": [
    " class SubfieldsInAI():  \n",
    "    def Subfields():\n",
    "        print(\"Sub-fields in AI are:\")\n",
    "        List=['Machine Learning', 'Neural Networks', 'Vision', 'Robotics', 'Speech Processing', 'Natural Language Processing']\n",
    "        for temp in List:\n",
    "            print(temp)\n"
   ]
  },
  {
   "cell_type": "code",
   "execution_count": 7,
   "id": "e01ed404-c230-4b73-b743-24ea1aa5520b",
   "metadata": {},
   "outputs": [
    {
     "name": "stdout",
     "output_type": "stream",
     "text": [
      "Sub-fields in AI are:\n",
      "Machine Learning\n",
      "Neural Networks\n",
      "Vision\n",
      "Robotics\n",
      "Speech Processing\n",
      "Natural Language Processing\n"
     ]
    }
   ],
   "source": [
    "SubfieldsInAI.Subfields()\n"
   ]
  },
  {
   "cell_type": "code",
   "execution_count": 21,
   "id": "2571c677-8093-4b42-bf51-eaa04de2d627",
   "metadata": {},
   "outputs": [],
   "source": [
    " class OddEven():\n",
    "     \n",
    "    def OddEven():\n",
    "        num = int(input(\"Enter a number: \"))  \n",
    "        if((num % 2) == 0):  \n",
    "           print(num, \"num is Even number\")  \n",
    "        else:  \n",
    "           print(num,\"num is Odd number\")  \n"
   ]
  },
  {
   "cell_type": "code",
   "execution_count": 22,
   "id": "fade110d-2f15-472b-be27-4086a8225db1",
   "metadata": {},
   "outputs": [
    {
     "name": "stdin",
     "output_type": "stream",
     "text": [
      "Enter a number:  54542\n"
     ]
    },
    {
     "name": "stdout",
     "output_type": "stream",
     "text": [
      "54542 num is Even number\n"
     ]
    }
   ],
   "source": [
    " OddEven.OddEven()"
   ]
  },
  {
   "cell_type": "code",
   "execution_count": 26,
   "id": "c6f5ed90-1725-4017-baf2-e0f017234d58",
   "metadata": {},
   "outputs": [],
   "source": [
    " class ElegiblityForMarriage():\n",
    "     \n",
    "    def Elegible():\n",
    "        gender=input(\"Your Gender:\")\n",
    "        age=int(input(\"Your Age:\"))\n",
    "        if(gender=='Male'):\n",
    "          if(age >=21):\n",
    "            print(\"ELIGIBLE\")\n",
    "          else:\n",
    "            print(\"NOT ELIGIBLE\")\n",
    "        if(gender=='feMale'):\n",
    "          if(age >=18):\n",
    "            print(\"ELIGIBLE\")\n",
    "          else:\n",
    "            print(\"NOT ELIGIBLE\")\n",
    "\n",
    "              "
   ]
  },
  {
   "cell_type": "code",
   "execution_count": 35,
   "id": "eb777313-7de9-44fb-bfe5-e75360bbdd23",
   "metadata": {},
   "outputs": [
    {
     "name": "stdin",
     "output_type": "stream",
     "text": [
      "Your Gender: Male\n",
      "Your Age: 25\n"
     ]
    },
    {
     "name": "stdout",
     "output_type": "stream",
     "text": [
      "ELIGIBLE\n"
     ]
    }
   ],
   "source": [
    "ElegiblityForMarriage. Elegible()"
   ]
  },
  {
   "cell_type": "code",
   "execution_count": 39,
   "id": "e1cbb729-f179-43fd-a3f2-fe84463020a5",
   "metadata": {},
   "outputs": [],
   "source": [
    "class findpercent():\n",
    "    \n",
    "   def findpercentage():\n",
    "       sub1=int(input(\"enter the value\"))\n",
    "       sub2=int(input(\"enter the value\"))\n",
    "       sub3=int(input(\"enter the value\"))\n",
    "       sub4=int(input(\"enter the value\"))\n",
    "       sub5=int(input(\"enter the value\"))\n",
    "       total=sub1+sub2+sub3+sub4+sub5\n",
    "       percentage=(total/5)\n",
    "       print(total)\n",
    "       print(\"percentage\",percentage)\n"
   ]
  },
  {
   "cell_type": "code",
   "execution_count": 40,
   "id": "b669453f-448a-47c0-afbb-b69aa753dab8",
   "metadata": {},
   "outputs": [
    {
     "name": "stdin",
     "output_type": "stream",
     "text": [
      "enter the value 97\n",
      "enter the value 93\n",
      "enter the value 89\n",
      "enter the value 93\n",
      "enter the value 94\n"
     ]
    },
    {
     "name": "stdout",
     "output_type": "stream",
     "text": [
      "466\n",
      "percentage 93.2\n"
     ]
    }
   ],
   "source": [
    "findpercent.findpercentage()"
   ]
  },
  {
   "cell_type": "code",
   "execution_count": null,
   "id": "2412fc11-a61c-4784-ab27-d8e2a433a9fa",
   "metadata": {},
   "outputs": [],
   "source": []
  }
 ],
 "metadata": {
  "kernelspec": {
   "display_name": "Python 3 (ipykernel)",
   "language": "python",
   "name": "python3"
  },
  "language_info": {
   "codemirror_mode": {
    "name": "ipython",
    "version": 3
   },
   "file_extension": ".py",
   "mimetype": "text/x-python",
   "name": "python",
   "nbconvert_exporter": "python",
   "pygments_lexer": "ipython3",
   "version": "3.12.7"
  }
 },
 "nbformat": 4,
 "nbformat_minor": 5
}
